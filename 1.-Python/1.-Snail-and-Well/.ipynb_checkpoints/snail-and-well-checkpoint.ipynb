{
 "cells": [
  {
   "cell_type": "markdown",
   "metadata": {},
   "source": [
    "<img src=\"https://bit.ly/2VnXWr2\" width=\"100\" align=\"left\">"
   ]
  },
  {
   "cell_type": "markdown",
   "metadata": {},
   "source": [
    "# The Snail and the Well\n",
    "\n",
    "A snail falls at the bottom of a 125 cm well. Each day the snail rises 30 cm. But at night, while sleeping, slides 20 cm because the walls are wet. How many days does it take for the snail to escape the well?\n",
    "\n",
    "**Hint**: The snail gets out of the well when it surpasses the 125cm of height.\n",
    "\n",
    "## Tools\n",
    "\n",
    "1. Loop: **while**\n",
    "2. Conditional statements: **if-else**\n",
    "3. Function: **print()**\n",
    "\n",
    "## Tasks\n",
    "\n",
    "#### 1. Assign the challenge data to variables with representative names: `well_height`, `daily_distance`, `nightly_distance` and `snail_position`."
   ]
  },
  {
   "cell_type": "code",
   "execution_count": 1,
   "metadata": {},
   "outputs": [],
   "source": [
    "well_height=125\n",
    "days_to_go_out=0\n",
    "daily_distance=30\n",
    "nightly_distance=-20\n",
    "snail_position=0\n"
   ]
  },
  {
   "cell_type": "markdown",
   "metadata": {},
   "source": [
    "#### 2. Create a variable `days` to keep count of the days that pass until the snail escapes the well. "
   ]
  },
  {
   "cell_type": "code",
   "execution_count": 2,
   "metadata": {},
   "outputs": [
    {
     "name": "stdout",
     "output_type": "stream",
     "text": [
      "0\n"
     ]
    }
   ],
   "source": [
    "days=days_to_go_out\n",
    "print(days_to_go_out)"
   ]
  },
  {
   "cell_type": "markdown",
   "metadata": {},
   "source": [
    "#### 3. Find the solution to the challenge using the variables defined above. "
   ]
  },
  {
   "cell_type": "code",
   "execution_count": 3,
   "metadata": {},
   "outputs": [
    {
     "name": "stdout",
     "output_type": "stream",
     "text": [
      "Snail have been trying to go out since 1 sunsets\n",
      "At the sunset, snail's position will be  30 cm from the floor\n",
      "Snail have been trying to go out since 1 sunrises\n",
      "By starlight, snail's position will be  10 cm from the floor\n",
      "Snail have been trying to go out since 2 sunsets\n",
      "At the sunset, snail's position will be  40 cm from the floor\n",
      "Snail have been trying to go out since 2 sunrises\n",
      "By starlight, snail's position will be  20 cm from the floor\n",
      "Snail have been trying to go out since 3 sunsets\n",
      "At the sunset, snail's position will be  50 cm from the floor\n",
      "Snail have been trying to go out since 3 sunrises\n",
      "By starlight, snail's position will be  30 cm from the floor\n",
      "Snail have been trying to go out since 4 sunsets\n",
      "At the sunset, snail's position will be  60 cm from the floor\n",
      "Snail have been trying to go out since 4 sunrises\n",
      "By starlight, snail's position will be  40 cm from the floor\n",
      "Snail have been trying to go out since 5 sunsets\n",
      "At the sunset, snail's position will be  70 cm from the floor\n",
      "Snail have been trying to go out since 5 sunrises\n",
      "By starlight, snail's position will be  50 cm from the floor\n",
      "Snail have been trying to go out since 6 sunsets\n",
      "At the sunset, snail's position will be  80 cm from the floor\n",
      "Snail have been trying to go out since 6 sunrises\n",
      "By starlight, snail's position will be  60 cm from the floor\n",
      "Snail have been trying to go out since 7 sunsets\n",
      "At the sunset, snail's position will be  90 cm from the floor\n",
      "Snail have been trying to go out since 7 sunrises\n",
      "By starlight, snail's position will be  70 cm from the floor\n",
      "Snail have been trying to go out since 8 sunsets\n",
      "At the sunset, snail's position will be  100 cm from the floor\n",
      "Snail have been trying to go out since 8 sunrises\n",
      "By starlight, snail's position will be  80 cm from the floor\n",
      "Snail have been trying to go out since 9 sunsets\n",
      "At the sunset, snail's position will be  110 cm from the floor\n",
      "Snail have been trying to go out since 9 sunrises\n",
      "By starlight, snail's position will be  90 cm from the floor\n",
      "Snail have been trying to go out since 10 sunsets\n",
      "At the sunset, snail's position will be  120 cm from the floor\n",
      "Snail have been trying to go out since 10 sunrises\n",
      "By starlight, snail's position will be  100 cm from the floor\n",
      "Snail have been trying to go out since 11 sunsets\n",
      "Snail is out in 11 days\n"
     ]
    }
   ],
   "source": [
    "well_height=125\n",
    "days_to_go_out=0\n",
    "daily_distance=30\n",
    "nightly_distance=-20\n",
    "snail_position=0\n",
    "\n",
    "while snail_position < well_height:\n",
    "    days_to_go_out +=1\n",
    "    print(\"Snail have been trying to go out since\", days_to_go_out, \"sunsets\")\n",
    "    snail_position += daily_distance\n",
    "    if snail_position > well_height:\n",
    "        print(\"Snail is out in\", days_to_go_out, \"days\")\n",
    "    else:\n",
    "        print(\"At the sunset, snail's position will be \", snail_position, \"cm from the floor\")\n",
    "        snail_position += nightly_distance\n",
    "        print(\"Snail have been trying to go out since\", days_to_go_out, \"sunrises\")\n",
    "        print(\"By starlight, snail's position will be \", snail_position, \"cm from the floor\")\n",
    "                "
   ]
  },
  {
   "cell_type": "markdown",
   "metadata": {},
   "source": [
    "#### 4. Print the solution."
   ]
  },
  {
   "cell_type": "code",
   "execution_count": null,
   "metadata": {},
   "outputs": [],
   "source": []
  },
  {
   "cell_type": "markdown",
   "metadata": {},
   "source": [
    "## Bonus\n",
    "The distance traveled by the snail each day is now defined by a list.\n",
    "```\n",
    "advance_cm = [30, 21, 33, 77, 44, 45, 23, 45, 12, 34, 55]\n",
    "```\n",
    "On the first day, the snail rises 30cm but during the night it slides 20cm. On the second day, the snail rises 21cm but during the night it slides 20cm, and so on. \n",
    "\n",
    "#### 1. How many days does it take for the snail to escape the well?\n",
    "Follow the same guidelines as in the previous challenge.\n",
    "\n",
    "**Hint**: Remember that the snail gets out of the well when it surpasses the 125cm of height."
   ]
  },
  {
   "cell_type": "code",
   "execution_count": 4,
   "metadata": {},
   "outputs": [
    {
     "name": "stdout",
     "output_type": "stream",
     "text": [
      "Snail have been trying to go out since 1 sunsets\n",
      "At the sunset, snail's position will be  21 cm from the floor\n",
      "Snail have been trying to go out since 1 sunrises\n",
      "By starlight, snail's position will be  1 cm from the floor\n",
      "Snail have been trying to go out since 2 sunsets\n",
      "At the sunset, snail's position will be  34 cm from the floor\n",
      "Snail have been trying to go out since 2 sunrises\n",
      "By starlight, snail's position will be  14 cm from the floor\n",
      "Snail have been trying to go out since 3 sunsets\n",
      "At the sunset, snail's position will be  91 cm from the floor\n",
      "Snail have been trying to go out since 3 sunrises\n",
      "By starlight, snail's position will be  71 cm from the floor\n",
      "Snail have been trying to go out since 4 sunsets\n",
      "At the sunset, snail's position will be  115 cm from the floor\n",
      "Snail have been trying to go out since 4 sunrises\n",
      "By starlight, snail's position will be  95 cm from the floor\n",
      "Snail have been trying to go out since 5 sunsets\n",
      "Snail is out in 5 days\n"
     ]
    }
   ],
   "source": [
    "well_height=125\n",
    "days_to_go_out=0\n",
    "#daily_distance=30\n",
    "nightly_distance=-20\n",
    "snail_position=0\n",
    "\n",
    "advance_cm = [30, 21, 33, 77, 44, 45, 23, 45, 12, 34, 55]\n",
    "\n",
    "while snail_position < well_height:\n",
    "    days_to_go_out +=1\n",
    "    print(\"Snail have been trying to go out since\", days_to_go_out, \"sunsets\")\n",
    "    snail_position += advance_cm[days_to_go_out]\n",
    "    if snail_position > well_height:\n",
    "        print(\"Snail is out in\", days_to_go_out, \"days\")\n",
    "    else:\n",
    "        print(\"At the sunset, snail's position will be \", snail_position, \"cm from the floor\")\n",
    "        snail_position += nightly_distance\n",
    "        print(\"Snail have been trying to go out since\", days_to_go_out, \"sunrises\")\n",
    "        print(\"By starlight, snail's position will be \", snail_position, \"cm from the floor\")"
   ]
  },
  {
   "cell_type": "markdown",
   "metadata": {},
   "source": [
    "#### 2. What is its maximum displacement in one day? And its minimum? Calculate the displacement using only the travel distance of the days used to get out of the well. \n",
    "**Hint**: Remember that displacement means the total distance risen taking into account that the snail slides at night.  "
   ]
  },
  {
   "cell_type": "code",
   "execution_count": 5,
   "metadata": {},
   "outputs": [
    {
     "name": "stdout",
     "output_type": "stream",
     "text": [
      "[10, 1, 13, 57, 24, 25, 3, 25, -8, 14, 35]\n",
      "Minimum distance is -8 .\n",
      "Maximum distance is 57 .\n"
     ]
    }
   ],
   "source": [
    "nightly_distance=-20\n",
    "advance_cm = [30, 21, 33, 77, 44, 45, 23, 45, 12, 34, 55]\n",
    "advance2 = [x + nightly_distance for x in advance_cm]\n",
    "print(advance2)\n",
    "print(\"Minimum distance is\", min(advance2),\".\")\n",
    "print(\"Maximum distance is\", max(advance2),\".\")\n",
    "\n",
    "\n"
   ]
  },
  {
   "cell_type": "markdown",
   "metadata": {},
   "source": [
    "#### 3. What is its average progress? Take into account the snail slides at night."
   ]
  },
  {
   "cell_type": "code",
   "execution_count": 6,
   "metadata": {},
   "outputs": [
    {
     "name": "stdout",
     "output_type": "stream",
     "text": [
      "18.09090909090909\n"
     ]
    }
   ],
   "source": [
    "avg_value = sum(advance2) / len(advance2)\n",
    "print(avg_value)"
   ]
  },
  {
   "cell_type": "markdown",
   "metadata": {},
   "source": [
    "#### 4. What is the standard deviation of its displacement? Take into account the snail slides at night."
   ]
  },
  {
   "cell_type": "code",
   "execution_count": 25,
   "metadata": {},
   "outputs": [
    {
     "data": {
      "text/plain": [
       "17.159437082600803"
      ]
     },
     "execution_count": 25,
     "metadata": {},
     "output_type": "execute_result"
    }
   ],
   "source": [
    "import numpy\n",
    "numpy.std(advance2)"
   ]
  }
 ],
 "metadata": {
  "kernelspec": {
   "display_name": "Python 3",
   "language": "python",
   "name": "python3"
  },
  "language_info": {
   "codemirror_mode": {
    "name": "ipython",
    "version": 3
   },
   "file_extension": ".py",
   "mimetype": "text/x-python",
   "name": "python",
   "nbconvert_exporter": "python",
   "pygments_lexer": "ipython3",
   "version": "3.8.5"
  }
 },
 "nbformat": 4,
 "nbformat_minor": 2
}
